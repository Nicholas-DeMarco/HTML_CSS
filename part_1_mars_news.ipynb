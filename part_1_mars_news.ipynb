{
 "cells": [
  {
   "cell_type": "markdown",
   "metadata": {},
   "source": [
    "# Module 12 Challenge\n",
    "## Deliverable 1: Scrape Titles and Preview Text from Mars News"
   ]
  },
  {
   "cell_type": "code",
   "execution_count": 12,
   "metadata": {},
   "outputs": [],
   "source": [
    "# Import Splinter and BeautifulSoup\n",
    "from splinter import Browser\n",
    "from bs4 import BeautifulSoup as soup\n",
    "from webdriver_manager.chrome import ChromeDriverManager"
   ]
  },
  {
   "cell_type": "code",
   "execution_count": 13,
   "metadata": {
    "scrolled": true
   },
   "outputs": [],
   "source": [
    "executable_path = {'executable_path': ChromeDriverManager().install()}\n",
    "browser = Browser('chrome', **executable_path, headless=False)"
   ]
  },
  {
   "cell_type": "markdown",
   "metadata": {},
   "source": [
    "### Step 1: Visit the Website\n",
    "\n",
    "1. Use automated browsing to visit the [Mars NASA news site](https://redplanetscience.com). Inspect the page to identify which elements to scrape.\n",
    "\n",
    "      > **Hint** To identify which elements to scrape, you might want to inspect the page by using Chrome DevTools."
   ]
  },
  {
   "cell_type": "code",
   "execution_count": 14,
   "metadata": {},
   "outputs": [],
   "source": [
    "# Visit the Mars NASA news site: https://redplanetscience.com\n",
    "\n",
    "url = 'https://redplanetscience.com'\n",
    "browser.visit(url)"
   ]
  },
  {
   "cell_type": "markdown",
   "metadata": {},
   "source": [
    "### Step 2: Scrape the Website\n",
    "\n",
    "Create a Beautiful Soup object and use it to extract text elements from the website."
   ]
  },
  {
   "cell_type": "code",
   "execution_count": 15,
   "metadata": {},
   "outputs": [],
   "source": [
    "# Create a Beautiful Soup object\n",
    "\n",
    "html = browser.html\n",
    "\n",
    "text_soup = soup(html, 'html.parser')"
   ]
  },
  {
   "cell_type": "code",
   "execution_count": 16,
   "metadata": {},
   "outputs": [],
   "source": [
    "# Extract all the text elements\n",
    "\n",
    "text_elements = text_soup.find_all('div', class_='list_text')"
   ]
  },
  {
   "cell_type": "markdown",
   "metadata": {},
   "source": [
    "### Step 3: Store the Results\n",
    "\n",
    "Extract the titles and preview text of the news articles that you scraped. Store the scraping results in Python data structures as follows:\n",
    "\n",
    "* Store each title-and-preview pair in a Python dictionary. And, give each dictionary two keys: `title` and `preview`. An example is the following:\n",
    "\n",
    "  ```python\n",
    "  {'title': \"Mars Rover Begins Mission!\", \n",
    "        'preview': \"NASA's Mars Rover begins a multiyear mission to collect data about the little-explored planet.\"}\n",
    "  ```\n",
    "\n",
    "* Store all the dictionaries in a Python list.\n",
    "\n",
    "* Print the list in your notebook."
   ]
  },
  {
   "cell_type": "code",
   "execution_count": 18,
   "metadata": {},
   "outputs": [],
   "source": [
    "# Create an empty list to store the dictionaries\n",
    "\n",
    "mars_dict ={}\n",
    "\n",
    "titles_prevs = []"
   ]
  },
  {
   "cell_type": "code",
   "execution_count": 19,
   "metadata": {},
   "outputs": [],
   "source": [
    "# Loop through the text elements\n",
    "# Extract the title and preview text from the elements\n",
    "# Store each title and preview pair in a dictionary\n",
    "# Add the dictionary to the list\n",
    "\n",
    "for x in text_elements:\n",
    "    \n",
    "    title = x.find('div', class_='content_title').text\n",
    "    \n",
    "    prev_text = x.find('div', class_='article_teaser_body').text\n",
    "    \n",
    "    mars_dict = {'Title': title, 'Preview': prev_text}\n",
    "    \n",
    "    titles_prevs.append(mars_dict)"
   ]
  },
  {
   "cell_type": "code",
   "execution_count": 20,
   "metadata": {},
   "outputs": [
    {
     "data": {
      "text/plain": [
       "[{'Title': \"NASA's Perseverance Rover Goes Through Trials by Fire, Ice, Light and Sound\",\n",
       "  'Preview': \"The agency's new Mars rover is put through a series of tests in vacuum chambers, acoustic chambers and more to get ready for the Red Planet.\"},\n",
       " {'Title': 'Sensors on Mars 2020 Spacecraft Answer Long-Distance Call From Earth',\n",
       "  'Preview': \"Instruments tailored to collect data during the descent of NASA's next rover through the Red Planet's atmosphere have been checked in flight.\"},\n",
       " {'Title': \"Virginia Middle School Student Earns Honor of Naming NASA's Next Mars Rover\",\n",
       "  'Preview': 'NASA chose a seventh-grader from Virginia as winner of the agency\\'s \"Name the Rover\" essay contest. Alexander Mather\\'s entry for \"Perseverance\" was voted tops among 28,000 entries. '},\n",
       " {'Title': \"NASA's Perseverance Rover Will Look at Mars Through These 'Eyes'\",\n",
       "  'Preview': 'A pair of zoomable cameras will help scientists and rover drivers with high-resolution color images.'},\n",
       " {'Title': \"NASA's InSight Flexes Its Arm While Its 'Mole' Hits Pause\",\n",
       "  'Preview': \"Now that the lander's robotic arm has helped the mole get underground, it will resume science activities that have been on hold.\"},\n",
       " {'Title': \"Alabama High School Student Names NASA's Mars Helicopter\",\n",
       "  'Preview': \"Vaneeza Rupani's essay was chosen as the name for the small spacecraft, which will mark NASA's first attempt at powered flight on another planet.\"},\n",
       " {'Title': \"6 Things to Know About NASA's Ingenuity Mars Helicopter\",\n",
       "  'Preview': 'The first helicopter attempting to fly on another planet is a marvel of engineering. Get up to speed with these key facts about its plans.'},\n",
       " {'Title': \"The Launch Is Approaching for NASA's Next Mars Rover, Perseverance\",\n",
       "  'Preview': \"The Red Planet's surface has been visited by eight NASA spacecraft. The ninth will be the first that includes a roundtrip ticket in its flight plan. \"},\n",
       " {'Title': 'NASA to Reveal Name of Its Next Mars Rover',\n",
       "  'Preview': \"After a months-long contest among students to name NASA's newest Mars rover, the agency will reveal the winning name — and the winning student — this Thursday. \"},\n",
       " {'Title': 'Heat and Dust Help Launch Martian Water Into Space, Scientists Find',\n",
       "  'Preview': 'Scientists using an instrument aboard NASA’s Mars Atmosphere and Volatile EvolutioN, or MAVEN, spacecraft have discovered that water vapor near the surface of the Red Planet is lofted higher into the atmosphere than anyone expected was possible. '},\n",
       " {'Title': 'NASA to Hold Mars 2020 Perseverance Rover Launch Briefing',\n",
       "  'Preview': \"Learn more about the agency's next Red Planet mission during a live event on June 17.\"},\n",
       " {'Title': \"While Stargazing on Mars, NASA's Curiosity Rover Spots Earth and Venus\",\n",
       "  'Preview': \"This new portrait of the Red Planet's neighbors was taken during a time when there's more dust in the air on Mars.\"},\n",
       " {'Title': \"From JPL's Mailroom to Mars and Beyond\",\n",
       "  'Preview': 'Bill Allen has thrived as the mechanical systems design lead for three Mars rover missions, but he got his start as a teenager sorting letters for the NASA center.'},\n",
       " {'Title': 'NASA to Broadcast Mars 2020 Perseverance Launch, Prelaunch Activities',\n",
       "  'Preview': 'Starting July 27, news activities will cover everything from mission engineering and science to returning samples from Mars to, of course, the launch itself.'},\n",
       " {'Title': 'Mars 2020 Stands on Its Own Six Wheels',\n",
       "  'Preview': \"In time-lapse video, taken at JPL, captures the first time NASA's Mars 2020 rover carries its full weight on its legs and wheels.\"}]"
      ]
     },
     "execution_count": 20,
     "metadata": {},
     "output_type": "execute_result"
    }
   ],
   "source": [
    "# Print the list to confirm success\n",
    "\n",
    "titles_prevs"
   ]
  },
  {
   "cell_type": "code",
   "execution_count": 21,
   "metadata": {},
   "outputs": [],
   "source": [
    "browser.quit()"
   ]
  },
  {
   "cell_type": "markdown",
   "metadata": {},
   "source": [
    "### (Optional) Step 4: Export the Data\n",
    "\n",
    "Optionally, store the scraped data in a file or database (to ease sharing the data with others). To do so, export the scraped data to either a JSON file or a MongoDB database."
   ]
  },
  {
   "cell_type": "code",
   "execution_count": 22,
   "metadata": {},
   "outputs": [
    {
     "data": {
      "text/html": [
       "<div>\n",
       "<style scoped>\n",
       "    .dataframe tbody tr th:only-of-type {\n",
       "        vertical-align: middle;\n",
       "    }\n",
       "\n",
       "    .dataframe tbody tr th {\n",
       "        vertical-align: top;\n",
       "    }\n",
       "\n",
       "    .dataframe thead th {\n",
       "        text-align: right;\n",
       "    }\n",
       "</style>\n",
       "<table border=\"1\" class=\"dataframe\">\n",
       "  <thead>\n",
       "    <tr style=\"text-align: right;\">\n",
       "      <th></th>\n",
       "      <th>Title</th>\n",
       "      <th>Preview</th>\n",
       "    </tr>\n",
       "  </thead>\n",
       "  <tbody>\n",
       "    <tr>\n",
       "      <th>0</th>\n",
       "      <td>NASA's Perseverance Rover Goes Through Trials ...</td>\n",
       "      <td>The agency's new Mars rover is put through a s...</td>\n",
       "    </tr>\n",
       "    <tr>\n",
       "      <th>1</th>\n",
       "      <td>Sensors on Mars 2020 Spacecraft Answer Long-Di...</td>\n",
       "      <td>Instruments tailored to collect data during th...</td>\n",
       "    </tr>\n",
       "    <tr>\n",
       "      <th>2</th>\n",
       "      <td>Virginia Middle School Student Earns Honor of ...</td>\n",
       "      <td>NASA chose a seventh-grader from Virginia as w...</td>\n",
       "    </tr>\n",
       "    <tr>\n",
       "      <th>3</th>\n",
       "      <td>NASA's Perseverance Rover Will Look at Mars Th...</td>\n",
       "      <td>A pair of zoomable cameras will help scientist...</td>\n",
       "    </tr>\n",
       "    <tr>\n",
       "      <th>4</th>\n",
       "      <td>NASA's InSight Flexes Its Arm While Its 'Mole'...</td>\n",
       "      <td>Now that the lander's robotic arm has helped t...</td>\n",
       "    </tr>\n",
       "    <tr>\n",
       "      <th>5</th>\n",
       "      <td>Alabama High School Student Names NASA's Mars ...</td>\n",
       "      <td>Vaneeza Rupani's essay was chosen as the name ...</td>\n",
       "    </tr>\n",
       "    <tr>\n",
       "      <th>6</th>\n",
       "      <td>6 Things to Know About NASA's Ingenuity Mars H...</td>\n",
       "      <td>The first helicopter attempting to fly on anot...</td>\n",
       "    </tr>\n",
       "    <tr>\n",
       "      <th>7</th>\n",
       "      <td>The Launch Is Approaching for NASA's Next Mars...</td>\n",
       "      <td>The Red Planet's surface has been visited by e...</td>\n",
       "    </tr>\n",
       "    <tr>\n",
       "      <th>8</th>\n",
       "      <td>NASA to Reveal Name of Its Next Mars Rover</td>\n",
       "      <td>After a months-long contest among students to ...</td>\n",
       "    </tr>\n",
       "    <tr>\n",
       "      <th>9</th>\n",
       "      <td>Heat and Dust Help Launch Martian Water Into S...</td>\n",
       "      <td>Scientists using an instrument aboard NASA’s M...</td>\n",
       "    </tr>\n",
       "    <tr>\n",
       "      <th>10</th>\n",
       "      <td>NASA to Hold Mars 2020 Perseverance Rover Laun...</td>\n",
       "      <td>Learn more about the agency's next Red Planet ...</td>\n",
       "    </tr>\n",
       "    <tr>\n",
       "      <th>11</th>\n",
       "      <td>While Stargazing on Mars, NASA's Curiosity Rov...</td>\n",
       "      <td>This new portrait of the Red Planet's neighbor...</td>\n",
       "    </tr>\n",
       "    <tr>\n",
       "      <th>12</th>\n",
       "      <td>From JPL's Mailroom to Mars and Beyond</td>\n",
       "      <td>Bill Allen has thrived as the mechanical syste...</td>\n",
       "    </tr>\n",
       "    <tr>\n",
       "      <th>13</th>\n",
       "      <td>NASA to Broadcast Mars 2020 Perseverance Launc...</td>\n",
       "      <td>Starting July 27, news activities will cover e...</td>\n",
       "    </tr>\n",
       "    <tr>\n",
       "      <th>14</th>\n",
       "      <td>Mars 2020 Stands on Its Own Six Wheels</td>\n",
       "      <td>In time-lapse video, taken at JPL, captures th...</td>\n",
       "    </tr>\n",
       "  </tbody>\n",
       "</table>\n",
       "</div>"
      ],
      "text/plain": [
       "                                                Title  \\\n",
       "0   NASA's Perseverance Rover Goes Through Trials ...   \n",
       "1   Sensors on Mars 2020 Spacecraft Answer Long-Di...   \n",
       "2   Virginia Middle School Student Earns Honor of ...   \n",
       "3   NASA's Perseverance Rover Will Look at Mars Th...   \n",
       "4   NASA's InSight Flexes Its Arm While Its 'Mole'...   \n",
       "5   Alabama High School Student Names NASA's Mars ...   \n",
       "6   6 Things to Know About NASA's Ingenuity Mars H...   \n",
       "7   The Launch Is Approaching for NASA's Next Mars...   \n",
       "8          NASA to Reveal Name of Its Next Mars Rover   \n",
       "9   Heat and Dust Help Launch Martian Water Into S...   \n",
       "10  NASA to Hold Mars 2020 Perseverance Rover Laun...   \n",
       "11  While Stargazing on Mars, NASA's Curiosity Rov...   \n",
       "12             From JPL's Mailroom to Mars and Beyond   \n",
       "13  NASA to Broadcast Mars 2020 Perseverance Launc...   \n",
       "14             Mars 2020 Stands on Its Own Six Wheels   \n",
       "\n",
       "                                              Preview  \n",
       "0   The agency's new Mars rover is put through a s...  \n",
       "1   Instruments tailored to collect data during th...  \n",
       "2   NASA chose a seventh-grader from Virginia as w...  \n",
       "3   A pair of zoomable cameras will help scientist...  \n",
       "4   Now that the lander's robotic arm has helped t...  \n",
       "5   Vaneeza Rupani's essay was chosen as the name ...  \n",
       "6   The first helicopter attempting to fly on anot...  \n",
       "7   The Red Planet's surface has been visited by e...  \n",
       "8   After a months-long contest among students to ...  \n",
       "9   Scientists using an instrument aboard NASA’s M...  \n",
       "10  Learn more about the agency's next Red Planet ...  \n",
       "11  This new portrait of the Red Planet's neighbor...  \n",
       "12  Bill Allen has thrived as the mechanical syste...  \n",
       "13  Starting July 27, news activities will cover e...  \n",
       "14  In time-lapse video, taken at JPL, captures th...  "
      ]
     },
     "execution_count": 22,
     "metadata": {},
     "output_type": "execute_result"
    }
   ],
   "source": [
    "# Export data to JSON\n",
    "\n",
    "import json\n",
    "import pandas as pd\n",
    "with open(\"mars.json\", \"w\") as outfile:\n",
    "    json.dump(titles_prevs, outfile)\n",
    "pd.read_json(\"mars.json\")"
   ]
  },
  {
   "cell_type": "code",
   "execution_count": null,
   "metadata": {},
   "outputs": [],
   "source": [
    "# Export data to MongoDB\n"
   ]
  }
 ],
 "metadata": {
  "kernelspec": {
   "display_name": "Python 3 (ipykernel)",
   "language": "python",
   "name": "python3"
  },
  "language_info": {
   "codemirror_mode": {
    "name": "ipython",
    "version": 3
   },
   "file_extension": ".py",
   "mimetype": "text/x-python",
   "name": "python",
   "nbconvert_exporter": "python",
   "pygments_lexer": "ipython3",
   "version": "3.10.6"
  }
 },
 "nbformat": 4,
 "nbformat_minor": 4
}
