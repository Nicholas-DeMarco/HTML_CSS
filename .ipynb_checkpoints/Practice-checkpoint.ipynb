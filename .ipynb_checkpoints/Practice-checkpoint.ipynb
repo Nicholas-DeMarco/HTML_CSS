{
 "cells": [
  {
   "cell_type": "code",
   "execution_count": 1,
   "id": "1d36ed8a",
   "metadata": {},
   "outputs": [
    {
     "name": "stdout",
     "output_type": "stream",
     "text": [
      "Requirement already satisfied: splinter[selenium3] in c:\\users\\nick\\appdata\\local\\programs\\python\\python37\\lib\\site-packages (0.18.1)\n",
      "Requirement already satisfied: selenium<4.0,>=3.141.0; extra == \"selenium3\" in c:\\users\\nick\\appdata\\local\\programs\\python\\python37\\lib\\site-packages (from splinter[selenium3]) (3.141.0)\n",
      "Requirement already satisfied: urllib3 in c:\\users\\nick\\appdata\\local\\programs\\python\\python37\\lib\\site-packages (from selenium<4.0,>=3.141.0; extra == \"selenium3\"->splinter[selenium3]) (1.26.12)\n",
      "Note: you may need to restart the kernel to use updated packages.\n"
     ]
    },
    {
     "name": "stderr",
     "output_type": "stream",
     "text": [
      "WARNING: You are using pip version 19.2.3, however version 22.3.1 is available.\n",
      "You should consider upgrading via the 'python -m pip install --upgrade pip' command.\n"
     ]
    }
   ],
   "source": [
    "pip install splinter[selenium3]"
   ]
  },
  {
   "cell_type": "code",
   "execution_count": 2,
   "id": "0c59e48a",
   "metadata": {},
   "outputs": [
    {
     "name": "stdout",
     "output_type": "stream",
     "text": [
      "Requirement already satisfied: webdriver_manager in c:\\users\\nick\\appdata\\local\\programs\\python\\python37\\lib\\site-packages (3.8.5)\n",
      "Requirement already satisfied: tqdm in c:\\users\\nick\\appdata\\local\\programs\\python\\python37\\lib\\site-packages (from webdriver_manager) (4.64.1)\n",
      "Requirement already satisfied: requests in c:\\users\\nick\\appdata\\local\\programs\\python\\python37\\lib\\site-packages (from webdriver_manager) (2.28.1)\n",
      "Requirement already satisfied: packaging in c:\\users\\nick\\appdata\\local\\programs\\python\\python37\\lib\\site-packages (from webdriver_manager) (21.3)\n",
      "Requirement already satisfied: python-dotenv in c:\\users\\nick\\appdata\\local\\programs\\python\\python37\\lib\\site-packages (from webdriver_manager) (0.21.0)\n",
      "Requirement already satisfied: colorama; platform_system == \"Windows\" in c:\\users\\nick\\appdata\\local\\programs\\python\\python37\\lib\\site-packages (from tqdm->webdriver_manager) (0.4.6)\n",
      "Requirement already satisfied: charset-normalizer<3,>=2 in c:\\users\\nick\\appdata\\local\\programs\\python\\python37\\lib\\site-packages (from requests->webdriver_manager) (2.1.1)\n",
      "Requirement already satisfied: urllib3<1.27,>=1.21.1 in c:\\users\\nick\\appdata\\local\\programs\\python\\python37\\lib\\site-packages (from requests->webdriver_manager) (1.26.12)\n",
      "Requirement already satisfied: idna<4,>=2.5 in c:\\users\\nick\\appdata\\local\\programs\\python\\python37\\lib\\site-packages (from requests->webdriver_manager) (3.4)\n",
      "Requirement already satisfied: certifi>=2017.4.17 in c:\\users\\nick\\appdata\\local\\programs\\python\\python37\\lib\\site-packages (from requests->webdriver_manager) (2022.9.24)\n",
      "Requirement already satisfied: pyparsing!=3.0.5,>=2.0.2 in c:\\users\\nick\\appdata\\local\\programs\\python\\python37\\lib\\site-packages (from packaging->webdriver_manager) (3.0.9)\n",
      "Note: you may need to restart the kernel to use updated packages.\n"
     ]
    },
    {
     "name": "stderr",
     "output_type": "stream",
     "text": [
      "WARNING: You are using pip version 19.2.3, however version 22.3.1 is available.\n",
      "You should consider upgrading via the 'python -m pip install --upgrade pip' command.\n"
     ]
    }
   ],
   "source": [
    "pip install webdriver_manager"
   ]
  },
  {
   "cell_type": "code",
   "execution_count": 3,
   "id": "83689457",
   "metadata": {},
   "outputs": [],
   "source": [
    "from splinter import Browser\n",
    "\n",
    "from bs4 import BeautifulSoup as soup\n",
    "\n",
    "from webdriver_manager.chrome import ChromeDriverManager"
   ]
  },
  {
   "cell_type": "code",
   "execution_count": 4,
   "id": "ca5f2ecf",
   "metadata": {},
   "outputs": [],
   "source": [
    "# Set up Splinter\n",
    "\n",
    "executable_path = {'executable_path': ChromeDriverManager().install()}\n",
    "browser = Browser('chrome', **executable_path, headless=False)"
   ]
  },
  {
   "cell_type": "code",
   "execution_count": 5,
   "id": "b3df4416",
   "metadata": {},
   "outputs": [],
   "source": [
    "# Visit the Quotes to Scrape site\n",
    "\n",
    "url = 'http://quotes.toscrape.com/'\n",
    "\n",
    "browser.visit(url)"
   ]
  },
  {
   "cell_type": "code",
   "execution_count": 6,
   "id": "1fab215e",
   "metadata": {},
   "outputs": [],
   "source": [
    "# Parse the HTML\n",
    "\n",
    "html = browser.html\n",
    "\n",
    "html_soup = soup(html, 'html.parser')"
   ]
  },
  {
   "cell_type": "code",
   "execution_count": 7,
   "id": "e5765dac",
   "metadata": {},
   "outputs": [
    {
     "name": "stdout",
     "output_type": "stream",
     "text": [
      "<h2>Top Ten tags</h2>\n",
      "Top Ten tags\n"
     ]
    }
   ],
   "source": [
    "# Scrape the Title\n",
    "\n",
    "h2 = html_soup.find('h2')\n",
    "\n",
    "title = h2.text\n",
    "\n",
    "print(h2)\n",
    "print(title)"
   ]
  },
  {
   "cell_type": "code",
   "execution_count": 8,
   "id": "60fdff34",
   "metadata": {},
   "outputs": [
    {
     "name": "stdout",
     "output_type": "stream",
     "text": [
      "love\n",
      "inspirational\n",
      "life\n",
      "humor\n",
      "books\n",
      "reading\n",
      "friendship\n",
      "friends\n",
      "truth\n",
      "simile\n"
     ]
    }
   ],
   "source": [
    "# Scrape the top ten tags\n",
    "\n",
    "tag_box = html_soup.find('div', class_='tags-box')\n",
    "\n",
    "# tag_box\n",
    "\n",
    "tags = tag_box.find_all('a', class_='tag')\n",
    "\n",
    "for tag in tags:\n",
    "    word = tag.text\n",
    "    print(word)"
   ]
  },
  {
   "cell_type": "code",
   "execution_count": 9,
   "id": "23e4c39a",
   "metadata": {},
   "outputs": [],
   "source": [
    "browser.quit()"
   ]
  },
  {
   "cell_type": "code",
   "execution_count": null,
   "id": "c52e7832",
   "metadata": {},
   "outputs": [],
   "source": []
  }
 ],
 "metadata": {
  "kernelspec": {
   "display_name": "PythonData",
   "language": "python",
   "name": "pythondata"
  },
  "language_info": {
   "codemirror_mode": {
    "name": "ipython",
    "version": 3
   },
   "file_extension": ".py",
   "mimetype": "text/x-python",
   "name": "python",
   "nbconvert_exporter": "python",
   "pygments_lexer": "ipython3",
   "version": "3.7.6"
  }
 },
 "nbformat": 4,
 "nbformat_minor": 5
}
